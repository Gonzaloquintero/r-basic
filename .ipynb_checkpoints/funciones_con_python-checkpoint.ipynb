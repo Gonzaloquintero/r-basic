{
 "cells": [
  {
   "cell_type": "markdown",
   "metadata": {},
   "source": [
    "# Definir funciones con Python"
   ]
  },
  {
   "cell_type": "code",
   "execution_count": 1,
   "metadata": {},
   "outputs": [],
   "source": [
    "#Metodos: Hace parte de una clase Todos los metodos son funciones pero no todas las funciones son metodos\n",
    "#def= Define la funcion "
   ]
  },
  {
   "cell_type": "code",
   "execution_count": 2,
   "metadata": {},
   "outputs": [],
   "source": [
    "#para definir la funcion suma\n",
    "# def define la funcion\n",
    "#return = retorna el valor\n",
    "def suma(x,y):\n",
    "    return x+y\n"
   ]
  },
  {
   "cell_type": "code",
   "execution_count": 3,
   "metadata": {},
   "outputs": [
    {
     "data": {
      "text/plain": [
       "5"
      ]
     },
     "execution_count": 3,
     "metadata": {},
     "output_type": "execute_result"
    }
   ],
   "source": [
    "suma(3,2)"
   ]
  },
  {
   "cell_type": "code",
   "execution_count": 5,
   "metadata": {},
   "outputs": [],
   "source": [
    "#Metodo\n",
    "#Definir la clase Con el Metodo suma\n",
    "#Class define la clase.  operacion  es el nombre de la clase Object para definir el objecto\n",
    "# resultado es una variable que depende de self\n",
    "# self es un paramentro \n",
    "\n",
    "class operacion(object):\n",
    "    def suma(self, x,y):\n",
    "        self.resultado= x+y\n",
    "        return self.resultado"
   ]
  },
  {
   "cell_type": "code",
   "execution_count": 6,
   "metadata": {},
   "outputs": [
    {
     "data": {
      "text/plain": [
       "5"
      ]
     },
     "execution_count": 6,
     "metadata": {},
     "output_type": "execute_result"
    }
   ],
   "source": [
    "#Declaro un objeto  operInstance \n",
    "operInstance= operacion()\n",
    "operInstance.suma(2,3)"
   ]
  },
  {
   "cell_type": "code",
   "execution_count": 7,
   "metadata": {},
   "outputs": [],
   "source": [
    "# Parametros son los nombres que utilizo cuando creo un funcion \n",
    "# Argumento es una variable que luego se sutituye por los valores \n",
    "# la funcion suma(x,y) tiene dos parametros de una funcion\n",
    "#o los argumentos de un metodo  se asignan casi todos \n",
    "#self = quiere decir yo mismo y es el primer parametro  de cada un de los metodos \n"
   ]
  },
  {
   "cell_type": "code",
   "execution_count": 8,
   "metadata": {},
   "outputs": [],
   "source": [
    "#definiendo una funcion con un return vacio\n",
    "def saludar():\n",
    "    print(\"Hola estoy aprendiendo a programar\")\n",
    "    return"
   ]
  },
  {
   "cell_type": "code",
   "execution_count": 9,
   "metadata": {},
   "outputs": [
    {
     "name": "stdout",
     "output_type": "stream",
     "text": [
      "Hola estoy aprendiendo a programar\n"
     ]
    }
   ],
   "source": [
    "saludar()"
   ]
  },
  {
   "cell_type": "code",
   "execution_count": 16,
   "metadata": {},
   "outputs": [],
   "source": [
    "# La misma funcion anterior mas compleja\n",
    "# Esta funcion no necesita un return para funcionar\n",
    "def saludo():\n",
    "    nombre= str(input(\"Ingrese su nombre: \"))\n",
    "    if nombre:\n",
    "        print(\"Hola:\", nombre,\"Estoy Programando\")\n",
    "    else:\n",
    "        print(\"hola estoy programando\")\n",
    "    return"
   ]
  },
  {
   "cell_type": "code",
   "execution_count": 19,
   "metadata": {},
   "outputs": [
    {
     "name": "stdout",
     "output_type": "stream",
     "text": [
      "Ingrese su nombre: Gonzalo\n",
      "Hola: Gonzalo Estoy Programando\n"
     ]
    }
   ],
   "source": [
    "saludo()"
   ]
  },
  {
   "cell_type": "code",
   "execution_count": 21,
   "metadata": {},
   "outputs": [],
   "source": [
    "# Funcion para buscar numeros pares hasta 10\n",
    "def buscarpares():\n",
    "    for x in range(10):\n",
    "        if x % 2 ==0:\n",
    "            return\n",
    "    print(\"Fin de la ecuacion\")"
   ]
  },
  {
   "cell_type": "code",
   "execution_count": 22,
   "metadata": {},
   "outputs": [],
   "source": [
    "buscarpares()"
   ]
  },
  {
   "cell_type": "code",
   "execution_count": 7,
   "metadata": {},
   "outputs": [],
   "source": [
    "#Para definir una funcion de suma y resta con la funcion return\n",
    "# Elresultado es una tupla\n",
    "def sumaresta(x,y):\n",
    "    suma= x+y\n",
    "    resta= x-y\n",
    "    multiplicacion= x*y\n",
    "    division = x/y\n",
    "    return(suma,resta,multiplicacion,division)    "
   ]
  },
  {
   "cell_type": "code",
   "execution_count": 8,
   "metadata": {},
   "outputs": [
    {
     "data": {
      "text/plain": [
       "(5, -1, 6, 0.6666666666666666)"
      ]
     },
     "execution_count": 8,
     "metadata": {},
     "output_type": "execute_result"
    }
   ],
   "source": [
    "sumaresta(2,3)"
   ]
  },
  {
   "cell_type": "code",
   "execution_count": 18,
   "metadata": {},
   "outputs": [],
   "source": [
    "#Funcion Para multiplicar por 5\n",
    "def multiplicar_por_5(numero):\n",
    "    print(f'{numero}*5 = {numero*5}')"
   ]
  },
  {
   "cell_type": "raw",
   "metadata": {},
   "source": []
  },
  {
   "cell_type": "code",
   "execution_count": 20,
   "metadata": {},
   "outputs": [
    {
     "name": "stdout",
     "output_type": "stream",
     "text": [
      "Comienzo del programa\n",
      "15*5 = 75\n",
      "Continua el programa\n",
      "1000*5 = 5000\n",
      "Fin del programa\n"
     ]
    }
   ],
   "source": [
    "print('Comienzo del programa')\n",
    "multiplicar_por_5(15)\n",
    "print('Continua el programa')\n",
    "multiplicar_por_5(1000)\n",
    "print('Fin del programa')"
   ]
  },
  {
   "cell_type": "code",
   "execution_count": 22,
   "metadata": {},
   "outputs": [
    {
     "name": "stdout",
     "output_type": "stream",
     "text": [
      "Ingrese el primer numero: 20\n",
      "Ingrese el segundo numero: 50\n",
      "El resultado de la multiplicion es: 1000\n"
     ]
    }
   ],
   "source": [
    "#multiplicar por dos numeros\n",
    "numerouno= int(input(\"Ingrese el primer numero: \"))\n",
    "numerodos= int(input(\"Ingrese el segundo numero: \"))\n",
    "total= numerouno * numerodos\n",
    "print(\"El resultado de la multiplicion es:\", total)"
   ]
  },
  {
   "cell_type": "code",
   "execution_count": 29,
   "metadata": {},
   "outputs": [],
   "source": [
    "def opera():\n",
    "    numerouno= int(input(\"Ingrese el numero uno: \"))\n",
    "    numerodos= int(input(\"Ingrese el numero dos: \"))\n",
    "    opera=numerouno + numerodos\n",
    "    return(opera)"
   ]
  },
  {
   "cell_type": "code",
   "execution_count": 30,
   "metadata": {},
   "outputs": [
    {
     "name": "stdout",
     "output_type": "stream",
     "text": [
      "Ingrese el numero uno: 20\n",
      "Ingrese el numero dos: 30\n"
     ]
    },
    {
     "data": {
      "text/plain": [
       "50"
      ]
     },
     "execution_count": 30,
     "metadata": {},
     "output_type": "execute_result"
    }
   ],
   "source": [
    "opera()"
   ]
  },
  {
   "cell_type": "code",
   "execution_count": null,
   "metadata": {},
   "outputs": [],
   "source": []
  }
 ],
 "metadata": {
  "kernelspec": {
   "display_name": "Python 3",
   "language": "python",
   "name": "python3"
  },
  "language_info": {
   "codemirror_mode": {
    "name": "ipython",
    "version": 3
   },
   "file_extension": ".py",
   "mimetype": "text/x-python",
   "name": "python",
   "nbconvert_exporter": "python",
   "pygments_lexer": "ipython3",
   "version": "3.8.3"
  }
 },
 "nbformat": 4,
 "nbformat_minor": 4
}
