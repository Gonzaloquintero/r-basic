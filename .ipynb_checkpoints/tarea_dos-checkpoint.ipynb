{
 "cells": [
  {
   "cell_type": "markdown",
   "metadata": {},
   "source": [
    "# caso uno"
   ]
  },
  {
   "cell_type": "code",
   "execution_count": 1,
   "metadata": {},
   "outputs": [],
   "source": [
    "#Escriba una secuencia de isntrucciones que permita leer un numero real por pantalla y que muestre si el numero es positivo o no"
   ]
  },
  {
   "cell_type": "code",
   "execution_count": null,
   "metadata": {},
   "outputs": [],
   "source": [
    "numero= int(input(\"Ingrese un numero real:\"))\n",
    "if numero >=0:\n",
    "    print(\"El numero ingresado es positivo\")\n",
    "else:\n",
    "        print(\"El numero ingresado no es positivo\")\n"
   ]
  },
  {
   "cell_type": "markdown",
   "metadata": {},
   "source": [
    "# Caso  dos"
   ]
  },
  {
   "cell_type": "code",
   "execution_count": 24,
   "metadata": {},
   "outputs": [],
   "source": [
    "#Escribe una secuencia de instrucciones que permitan leer un número real\n",
    "#por pantalla y que muestre si el número está en el rango entre -5 y 5"
   ]
  },
  {
   "cell_type": "code",
   "execution_count": 9,
   "metadata": {},
   "outputs": [
    {
     "name": "stdout",
     "output_type": "stream",
     "text": [
      "Ingres el numero caso dos: -5\n",
      "Elnumero esta en el rango\n"
     ]
    }
   ],
   "source": [
    "numerodos= int(input(\"Ingres el numero caso dos: \"))\n",
    "if -5 <= numerodos <=5:\n",
    "    print(\"Elnumero esta en el rango\")\n",
    "else:\n",
    "    print(\"El numero no esta en el rango\")"
   ]
  },
  {
   "cell_type": "markdown",
   "metadata": {},
   "source": [
    "# Caso Tres"
   ]
  },
  {
   "cell_type": "code",
   "execution_count": 10,
   "metadata": {},
   "outputs": [],
   "source": [
    "#Escribe una secuencia de instrucciones que permitan leer las coordenadas de un punto (x, y) \n",
    "#e indique en cuál de los cuatro cuadrantes se encuentra dicho punto."
   ]
  },
  {
   "cell_type": "code",
   "execution_count": null,
   "metadata": {},
   "outputs": [],
   "source": []
  }
 ],
 "metadata": {
  "kernelspec": {
   "display_name": "Python 3",
   "language": "python",
   "name": "python3"
  },
  "language_info": {
   "codemirror_mode": {
    "name": "ipython",
    "version": 3
   },
   "file_extension": ".py",
   "mimetype": "text/x-python",
   "name": "python",
   "nbconvert_exporter": "python",
   "pygments_lexer": "ipython3",
   "version": "3.8.3"
  }
 },
 "nbformat": 4,
 "nbformat_minor": 4
}
