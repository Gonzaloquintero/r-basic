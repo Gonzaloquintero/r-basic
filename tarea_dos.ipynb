{
 "cells": [
  {
   "cell_type": "markdown",
   "metadata": {},
   "source": [
    "# caso uno"
   ]
  },
  {
   "cell_type": "code",
   "execution_count": 1,
   "metadata": {},
   "outputs": [],
   "source": [
    "#Escriba una secuencia de isntrucciones que permita leer un numero real por pantalla y que muestre si el numero es positivo o no"
   ]
  },
  {
   "cell_type": "code",
   "execution_count": 81,
   "metadata": {},
   "outputs": [
    {
     "name": "stdout",
     "output_type": "stream",
     "text": [
      "Ingrese un numero real: 0.5\n",
      "El numero ingresado es positivo !\n"
     ]
    }
   ],
   "source": [
    "numero= float(input(\"Ingrese un numero real: \"))\n",
    "if numero >0:\n",
    "    print(\"El numero ingresado es positivo !\")\n",
    "elif numero <0:\n",
    "    print(\"El numero ingresado es negativo !\")\n",
    "else:\n",
    "        print(\"El numero ingresado es igual a cero !\")\n"
   ]
  },
  {
   "cell_type": "markdown",
   "metadata": {},
   "source": [
    "# Caso  dos"
   ]
  },
  {
   "cell_type": "code",
   "execution_count": 24,
   "metadata": {},
   "outputs": [],
   "source": [
    "#Escribe una secuencia de instrucciones que permitan leer un número real\n",
    "#por pantalla y que muestre si el número está en el rango entre -5 y 5"
   ]
  },
  {
   "cell_type": "code",
   "execution_count": 82,
   "metadata": {},
   "outputs": [
    {
     "name": "stdout",
     "output_type": "stream",
     "text": [
      "Ingres el numero caso dos: 5.5\n",
      "El numero no esta en el rango\n"
     ]
    }
   ],
   "source": [
    "numerodos= float(input(\"Ingres el numero caso dos: \"))\n",
    "if -5 <= numerodos <=5:\n",
    "    print(\"Elnumero esta en el rango\")\n",
    "else:\n",
    "    print(\"El numero no esta en el rango\")"
   ]
  },
  {
   "cell_type": "markdown",
   "metadata": {},
   "source": [
    "# Caso Tres"
   ]
  },
  {
   "cell_type": "code",
   "execution_count": 10,
   "metadata": {},
   "outputs": [],
   "source": [
    "#Escribe una secuencia de instrucciones que permitan leer las coordenadas de un punto (x, y) \n",
    "#e indique en cuál de los cuatro cuadrantes se encuentra dicho punto."
   ]
  },
  {
   "cell_type": "code",
   "execution_count": 13,
   "metadata": {},
   "outputs": [
    {
     "name": "stdout",
     "output_type": "stream",
     "text": [
      "Ingrese el valor de x: -2\n",
      "Ingrese el valor de y :2\n",
      "El numero esta en cuadrante dos\n"
     ]
    }
   ],
   "source": [
    "x= int(input(\"Ingrese el valor de x: \"))\n",
    "y= int(input(\"Ingrese el valor de y :\"))\n",
    "if (x >0) and (y>0):\n",
    "    print(\"El numero esta en el cuadrante uno\")\n",
    "elif (x<0) and y>0:\n",
    "    print(\"El numero esta en cuadrante dos\")\n",
    "elif (x<0) and (y<0):\n",
    "    print(\"El numero este en el cuadrante tres\")\n",
    "elif (x>0) and (y<0):\n",
    "    print(\"El numero esta en el cuadrante cuatro\")\n",
    "else:\n",
    "    print(\"Los dos numeros son igual a cero\")"
   ]
  },
  {
   "cell_type": "markdown",
   "metadata": {},
   "source": [
    "# Caso cuatro"
   ]
  },
  {
   "cell_type": "code",
   "execution_count": 14,
   "metadata": {},
   "outputs": [],
   "source": [
    "#Escribe una secuencia de instrucciones que permitan leer dos números enteros y muestre el cociente \n",
    "#de la división entera y el resto."
   ]
  },
  {
   "cell_type": "code",
   "execution_count": 22,
   "metadata": {},
   "outputs": [
    {
     "name": "stdout",
     "output_type": "stream",
     "text": [
      "Ingrese el dividendo: 5\n",
      "Ingrese el Divisor: 2\n",
      "El cociente entero es : 2\n",
      "El resto de la divison es: 1\n"
     ]
    }
   ],
   "source": [
    "dividendo = int(input(\"Ingrese el dividendo: \"))\n",
    "divisor = int(input(\"Ingrese el Divisor: \"))\n",
    "cociente_entero= (dividendo)//(divisor)\n",
    "resto_division= (dividendo)%(divisor)\n",
    "print(\"El cociente entero es :\",cociente_entero)\n",
    "print(\"El resto de la divison es:\",resto_division)"
   ]
  },
  {
   "cell_type": "markdown",
   "metadata": {},
   "source": [
    "# Caso Cinco"
   ]
  },
  {
   "cell_type": "code",
   "execution_count": null,
   "metadata": {},
   "outputs": [],
   "source": [
    "#Escribe una secuencia de instrucciones que permitan leer un número entero es cuadrado perfecto o no (piensa la mejor forma de\n",
    "#hacerlo con lo que has aprendido hasta ahora)"
   ]
  },
  {
   "cell_type": "code",
   "execution_count": 30,
   "metadata": {},
   "outputs": [
    {
     "name": "stdout",
     "output_type": "stream",
     "text": [
      "ingrese el numero: 5\n",
      "El numero no es un cuadrado perfecto\n"
     ]
    }
   ],
   "source": [
    "import math\n",
    "numero = int(input(\"ingrese el numero: \"))\n",
    "if (math.sqrt(numero))%1==0:\n",
    "    print(\"El numero es un cuadrado perfecto\")\n",
    "else:\n",
    "    print(\"El numero no es un cuadrado perfecto\")"
   ]
  },
  {
   "cell_type": "markdown",
   "metadata": {},
   "source": [
    "# Caso Seis"
   ]
  },
  {
   "cell_type": "code",
   "execution_count": null,
   "metadata": {},
   "outputs": [],
   "source": [
    "#Escribe una expresión que permita determinar si un número entero positivo puede\n",
    "#corresponder a un año bisiesto o no. Se consideran años bisiestos aquellos cuyo número es divisible\n",
    "#por cuatro excepto los años que son múltiplos de 100, a no ser que lo sean de 400 (por ejemplo el año 2000 \n",
    "#fue bisiesto pero el 2100 no lo será)."
   ]
  },
  {
   "cell_type": "code",
   "execution_count": 47,
   "metadata": {},
   "outputs": [
    {
     "name": "stdout",
     "output_type": "stream",
     "text": [
      "Ingrese el año: 2000\n",
      "el año: 2000 Es bisiesto\n"
     ]
    }
   ],
   "source": [
    "numero= int(input(\"Ingrese el año: \"))\n",
    "if numero % 4 ==0 and (numero % 100 !=0 or numero%400==0):\n",
    "    print(\"el año:\",numero,\"Es bisiesto\")\n",
    "else:\n",
    "    print(\"El año:\", numero,\"No es bisiesto\")\n"
   ]
  },
  {
   "cell_type": "markdown",
   "metadata": {},
   "source": [
    "# Caso Siete"
   ]
  },
  {
   "cell_type": "code",
   "execution_count": 48,
   "metadata": {},
   "outputs": [],
   "source": [
    "#Busca la imagen de un tablero de ajedrez en Google y fíjate en la nomenclatura de las casillas.\n",
    "#Escribe una expresión lea una letra y un número de teclado correspondiente a una casilla de un \n",
    "#tablero de ajedrez y nos indique si esta casilla es negra o blanca."
   ]
  },
  {
   "cell_type": "code",
   "execution_count": 97,
   "metadata": {},
   "outputs": [
    {
     "name": "stdout",
     "output_type": "stream",
     "text": [
      "Ingrese la letra: e\n",
      "Ingrese el Numero: 2\n",
      "letra,numero%2\n",
      "si la letra es: e y el numero es: 2 la casilla es blanca\n"
     ]
    }
   ],
   "source": [
    "letra= input(str(\"Ingrese la letra: \"))\n",
    "numero= int(input(\"Ingrese el Numero: \"))\n",
    "print(\"letra,numero%2\")\n",
    "if (letra==\"a\" or letra==\"c\" or letra==\"e\" or letra==\"g\" or letra==\"A\" or letra==\"C\"\n",
    "    or letra==\"E\" or letra==\"G\") and numero%2==0:\n",
    "    print(\"si la letra es:\",letra,\"y el numero es:\",numero,\"la casilla es blanca\")\n",
    "elif (letra==\"a\" or letra==\"c\" or letra==\"e\" or letra==\"g\" or letra==\"A\" or letra==\"C\"\n",
    "    or letra==\"E\" or letra==\"G\") and numero%2!=0:\n",
    "    print(\"si la letra es:\",letra,\"y el numero es:\",numero,\"la casilla es negra\")\n",
    "elif (letra==\"b\" or letra==\"B\" or letra==\"d\" or letra==\"D\" or letra==\"f\" or letra==\"F\"\n",
    "    or letra==\"h\" or letra==\"H\") and numero%2==0:\n",
    "        print(\"Si la letra es:\",letra,\"Y el numero es:\",numero,\"La casilla es negra\")\n",
    "elif (letra==\"b\" or letra==\"B\" or letra==\"d\" or letra==\"D\" or letra==\"f\" or letra==\"F\"\n",
    "    or letra==\"h\" or letra==\"H\") and numero%2!=0:\n",
    "       print(\"Si la letra es:\",letra,\"Y el numero es:\",numero,\"La casilla es blanca\")\n",
    "else:\n",
    "    print(\"La letra o el numero dado no esta en el rango requerido\")"
   ]
  },
  {
   "cell_type": "code",
   "execution_count": null,
   "metadata": {},
   "outputs": [],
   "source": []
  },
  {
   "cell_type": "code",
   "execution_count": 71,
   "metadata": {},
   "outputs": [
    {
     "data": {
      "text/plain": [
       "4"
      ]
     },
     "execution_count": 71,
     "metadata": {},
     "output_type": "execute_result"
    }
   ],
   "source": []
  },
  {
   "cell_type": "code",
   "execution_count": null,
   "metadata": {},
   "outputs": [],
   "source": []
  }
 ],
 "metadata": {
  "kernelspec": {
   "display_name": "Python 3",
   "language": "python",
   "name": "python3"
  },
  "language_info": {
   "codemirror_mode": {
    "name": "ipython",
    "version": 3
   },
   "file_extension": ".py",
   "mimetype": "text/x-python",
   "name": "python",
   "nbconvert_exporter": "python",
   "pygments_lexer": "ipython3",
   "version": "3.8.3"
  }
 },
 "nbformat": 4,
 "nbformat_minor": 4
}
